{
  "nbformat": 4,
  "nbformat_minor": 0,
  "metadata": {
    "colab": {
      "name": "14- Poisson.ipy",
      "provenance": [],
      "authorship_tag": "ABX9TyMei8VwGjX8mtyRi1/ksodA",
      "include_colab_link": true
    },
    "kernelspec": {
      "name": "python3",
      "display_name": "Python 3"
    },
    "language_info": {
      "name": "python"
    }
  },
  "cells": [
    {
      "cell_type": "markdown",
      "metadata": {
        "id": "view-in-github",
        "colab_type": "text"
      },
      "source": [
        "<a href=\"https://colab.research.google.com/github/MuriloSapiens/Data---Statistic/blob/main/14_Poisson_ipy.ipynb\" target=\"_parent\"><img src=\"https://colab.research.google.com/assets/colab-badge.svg\" alt=\"Open In Colab\"/></a>"
      ]
    },
    {
      "cell_type": "code",
      "execution_count": null,
      "metadata": {
        "id": "1zHvti3tXWEF"
      },
      "outputs": [],
      "source": [
        "from scipy.stats import poisson\n",
        "#Média de acidentes de carro é 2 por dia"
      ]
    },
    {
      "cell_type": "code",
      "source": [
        "poisson.pmf(3, 2)\n",
        "#qual a probabilidade de ocorrem 3 acidentes no dia:?"
      ],
      "metadata": {
        "colab": {
          "base_uri": "https://localhost:8080/"
        },
        "id": "jUEtIX4kYYYX",
        "outputId": "875aefa8-ba90-40c7-c868-12af5aec4bd5"
      },
      "execution_count": null,
      "outputs": [
        {
          "output_type": "execute_result",
          "data": {
            "text/plain": [
              "0.18044704431548356"
            ]
          },
          "metadata": {},
          "execution_count": 4
        }
      ]
    },
    {
      "cell_type": "code",
      "source": [
        "poisson.cdf(3, 2)\n",
        "#Qual a probabilidade de 3 ou menos por dia?"
      ],
      "metadata": {
        "colab": {
          "base_uri": "https://localhost:8080/"
        },
        "id": "x4ZxZ-34YtSr",
        "outputId": "4e4eae21-551c-483f-a1ff-8e2bb7a008c3"
      },
      "execution_count": null,
      "outputs": [
        {
          "output_type": "execute_result",
          "data": {
            "text/plain": [
              "0.857123460498547"
            ]
          },
          "metadata": {},
          "execution_count": 6
        }
      ]
    },
    {
      "cell_type": "code",
      "source": [
        "poisson.sf(3, 2)\n",
        "# Qual a probabilidade de ocorrerem mais de 3/dia?"
      ],
      "metadata": {
        "colab": {
          "base_uri": "https://localhost:8080/"
        },
        "id": "znzwKcTYZAvA",
        "outputId": "ada35166-82cd-4571-ec27-47bbd7cc098a"
      },
      "execution_count": null,
      "outputs": [
        {
          "output_type": "execute_result",
          "data": {
            "text/plain": [
              "0.14287653950145296"
            ]
          },
          "metadata": {},
          "execution_count": 7
        }
      ]
    },
    {
      "cell_type": "code",
      "source": [],
      "metadata": {
        "id": "Hl5G2oHuZTEX"
      },
      "execution_count": null,
      "outputs": []
    }
  ]
}