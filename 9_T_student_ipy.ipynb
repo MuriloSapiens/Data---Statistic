{
  "nbformat": 4,
  "nbformat_minor": 0,
  "metadata": {
    "colab": {
      "name": "9-T_student.ipy",
      "provenance": [],
      "authorship_tag": "ABX9TyNqNHNBSyN3Tm+l8PvLmK+g",
      "include_colab_link": true
    },
    "kernelspec": {
      "name": "python3",
      "display_name": "Python 3"
    },
    "language_info": {
      "name": "python"
    }
  },
  "cells": [
    {
      "cell_type": "markdown",
      "metadata": {
        "id": "view-in-github",
        "colab_type": "text"
      },
      "source": [
        "<a href=\"https://colab.research.google.com/github/MuriloSapiens/Data---Statistic/blob/main/9_T_student_ipy.ipynb\" target=\"_parent\"><img src=\"https://colab.research.google.com/assets/colab-badge.svg\" alt=\"Open In Colab\"/></a>"
      ]
    },
    {
      "cell_type": "code",
      "execution_count": null,
      "metadata": {
        "id": "KUj4faCXZ7wJ"
      },
      "outputs": [],
      "source": [
        "from scipy.stats import t\n",
        "#A media salarial dos sientistas de dados é 75$ por hora\n",
        "#Amostra com 9 funcionarios e desvio padrão = 10\n",
        "#Qual a probabilidade de selecionar um cientista de dados e o salario\n",
        "#ser menor que 80/hora?"
      ]
    },
    {
      "cell_type": "code",
      "source": [
        "#Qual a probabilidade do salario ser maior do que 80?\n",
        "t.sf(1.5, 8)"
      ],
      "metadata": {
        "colab": {
          "base_uri": "https://localhost:8080/"
        },
        "id": "s8Arjc0yaJe2",
        "outputId": "e8030dc9-4f15-41a2-bc02-24befec77312"
      },
      "execution_count": null,
      "outputs": [
        {
          "output_type": "execute_result",
          "data": {
            "text/plain": [
              "0.08600164597595565"
            ]
          },
          "metadata": {},
          "execution_count": 2
        }
      ]
    },
    {
      "cell_type": "code",
      "source": [
        "#Qual a probabilidade do salario ser maior do que 80?\n",
        "t.sf(1.5, 8) * 100"
      ],
      "metadata": {
        "colab": {
          "base_uri": "https://localhost:8080/"
        },
        "id": "9ihn-zgua-bF",
        "outputId": "f78c86b8-24ba-4200-8fdf-4804012172ac"
      },
      "execution_count": null,
      "outputs": [
        {
          "output_type": "execute_result",
          "data": {
            "text/plain": [
              "8.600164597595565"
            ]
          },
          "metadata": {},
          "execution_count": 3
        }
      ]
    },
    {
      "cell_type": "code",
      "source": [
        "t.sf(1.5, 8) + t.sf(1.5, 8)"
      ],
      "metadata": {
        "id": "EsS_PQPebHLd",
        "outputId": "f6b52390-55bd-4705-cf08-6cfc3c46ccdb",
        "colab": {
          "base_uri": "https://localhost:8080/"
        }
      },
      "execution_count": null,
      "outputs": [
        {
          "output_type": "execute_result",
          "data": {
            "text/plain": [
              "0.1720032919519113"
            ]
          },
          "metadata": {},
          "execution_count": 4
        }
      ]
    },
    {
      "cell_type": "code",
      "source": [],
      "metadata": {
        "id": "N16yCj4abNtM"
      },
      "execution_count": null,
      "outputs": []
    }
  ]
}