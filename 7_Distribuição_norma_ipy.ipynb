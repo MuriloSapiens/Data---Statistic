{
  "nbformat": 4,
  "nbformat_minor": 0,
  "metadata": {
    "colab": {
      "name": "7-Distribuição norma.ipy",
      "provenance": [],
      "authorship_tag": "ABX9TyMqedTqo2ABbW6vCwsb9SVy",
      "include_colab_link": true
    },
    "kernelspec": {
      "name": "python3",
      "display_name": "Python 3"
    },
    "language_info": {
      "name": "python"
    }
  },
  "cells": [
    {
      "cell_type": "markdown",
      "metadata": {
        "id": "view-in-github",
        "colab_type": "text"
      },
      "source": [
        "<a href=\"https://colab.research.google.com/github/MuriloSapiens/Data---Statistic/blob/main/7_Distribui%C3%A7%C3%A3o_norma_ipy.ipynb\" target=\"_parent\"><img src=\"https://colab.research.google.com/assets/colab-badge.svg\" alt=\"Open In Colab\"/></a>"
      ]
    },
    {
      "cell_type": "code",
      "execution_count": null,
      "metadata": {
        "id": "akTF2vZ1nxHQ"
      },
      "outputs": [],
      "source": []
    },
    {
      "cell_type": "code",
      "source": [
        "from scipy.stats import norm  \n",
        "\n",
        "# Conjunto de objetos em uma cesta, a media é 8 e o desvio padrão é 2.\n",
        "# Qual a probabilidade de tirar um objeto de peso menor que 6kg?\n",
        "\n",
        "norm.cdf(6, 8, 2)\n",
        "\n",
        "#Qual a probabilidade de tirar um objeto que o peso é maior que 6kg?\n",
        "\n",
        "norm.sf(6, 8, 2)\n",
        "\n",
        "1 - norm.cdf(6, 8, 2)\n",
        "\n",
        "#Qual a probabilidade de tirar um objeto que o peso é menor que 6 ou maior que 10Kq?\n",
        "\n",
        "norm.cdf(6, 8, 2) + norm.sf(10, 8, 2)\n",
        "\n",
        "# Qual a probabilidade de tirar um objeto que o peso é menor que 10 e maior que 8kg?\n",
        "\n",
        "norm.cdf(10, 8, 2) - norm.cdf(8, 8, 2)"
      ],
      "metadata": {
        "id": "Ru2YqaIKQcMm",
        "outputId": "b5ec45d9-5ab4-4d68-bf63-6cf0db22785c",
        "colab": {
          "base_uri": "https://localhost:8080/"
        }
      },
      "execution_count": null,
      "outputs": [
        {
          "output_type": "execute_result",
          "data": {
            "text/plain": [
              "0.3413447460685429"
            ]
          },
          "metadata": {},
          "execution_count": 1
        }
      ]
    }
  ]
}